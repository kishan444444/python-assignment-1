{
 "cells": [
  {
   "cell_type": "code",
   "execution_count": 2,
   "id": "c8723097-23eb-4e49-984e-007f98db1c6c",
   "metadata": {},
   "outputs": [
    {
     "ename": "IndentationError",
     "evalue": "unexpected indent (4109150640.py, line 18)",
     "output_type": "error",
     "traceback": [
      "\u001b[1;36m  Cell \u001b[1;32mIn[2], line 18\u001b[1;36m\u001b[0m\n\u001b[1;33m    \"\"\"\u001b[0m\n\u001b[1;37m    ^\u001b[0m\n\u001b[1;31mIndentationError\u001b[0m\u001b[1;31m:\u001b[0m unexpected indent\n"
     ]
    }
   ],
   "source": [
    "# 1. In the below elements which of them are values or an expression? eg:- values can beinteger or string and expressions will be mathematical operators.\n",
    "\"\"\"\n",
    "solution\n",
    "Value=hello,-87.8,6\n",
    "Expression=*,-,/,+\n",
    "\"\"\"\n",
    "#2. What is the difference between string and variable?\n",
    "\"\"\"\n",
    "Variables are symbols that you can use to store data in a program.\n",
    "You can think of them as an empty box that you fill with some data or value.\n",
    "Strings are data, so we can use them to fill up a variable\n",
    "\"\"\"\n",
    "#3Describe three different data types.\n",
    " \"\"\"\n",
    "The three data type in python are \n",
    "1 string=Strings in Python are sequences of character data. \n",
    "They are created by enclosing characters in quotes.\n",
    "eg= \"this is string\"\n",
    "\n",
    "2 integer= Integers are whole numbers, without a fractional component. \n",
    "They can be positive or negative.\n",
    "example=1,2,3\n",
    "\n",
    "3 Floats: Floats represent real numbers and are written with a decimal point.\n",
    "example=10.00,12.00\n",
    "\"\"\"\n",
    "\n",
    "#4.What is an expression made up of? What do all expressions do?\n",
    "\"\"\"\n",
    "An expression is a combination of values, variables, operators, and calls to functions. \n",
    "Expressions need to be evaluated. \n",
    "If you ask Python to print an expression, the interpreter evaluates the expression and displays the result.\n",
    "\"\"\"\n",
    "#5. This assignment statements, like spam = 10. What is the difference between an expression and a statement?\n",
    "\"\"\"\n",
    "Expressions can be assigned or used as operands, while statements can only be declared.\n",
    "Statements create side effects to be useful, while expressions are values or execute to values.\n",
    "Expressions are unique in meaning, while statements are two-sided in execution.\n",
    "\"\"\"\n",
    "#6 After running the following code, what does the variable bacon contain?\n",
    "# balcon=23,balcon+1\n",
    "\"\"\" \n",
    "solution=23\n",
    "\"\"\"\n",
    "#7What should the values of the following two terms be?\n",
    "\"\"\"\n",
    "'spam' + 'spamspam'\n",
    "'spam' * 3\n",
    "solution=spamspamspam\n",
    "\n",
    "\"\"\"\n",
    "#8. Why is eggs a valid variable name while 100 is invalid?\n",
    "\"\"\"\n",
    "solution= because variable cannot begain with number or special charator\n",
    "\"\"\"\n",
    "\n",
    "\n",
    "\n",
    "\n"
   ]
  },
  {
   "cell_type": "code",
   "execution_count": null,
   "id": "66ae40b9-139d-4f15-9615-12154ddce3dc",
   "metadata": {},
   "outputs": [],
   "source": []
  }
 ],
 "metadata": {
  "kernelspec": {
   "display_name": "Python 3 (ipykernel)",
   "language": "python",
   "name": "python3"
  },
  "language_info": {
   "codemirror_mode": {
    "name": "ipython",
    "version": 3
   },
   "file_extension": ".py",
   "mimetype": "text/x-python",
   "name": "python",
   "nbconvert_exporter": "python",
   "pygments_lexer": "ipython3",
   "version": "3.11.5"
  }
 },
 "nbformat": 4,
 "nbformat_minor": 5
}
